{
 "cells": [
  {
   "cell_type": "markdown",
   "id": "1b90f4c3",
   "metadata": {},
   "source": [
    "### Reading-in the data"
   ]
  },
  {
   "cell_type": "code",
   "execution_count": 294,
   "id": "9ee5eea4",
   "metadata": {},
   "outputs": [],
   "source": [
    "import numpy as np\n",
    "import pandas as pd\n",
    "import matplotlib.pyplot as plt\n",
    "import seaborn as sns"
   ]
  },
  {
   "cell_type": "code",
   "execution_count": 473,
   "id": "9311c824",
   "metadata": {},
   "outputs": [],
   "source": [
    "def read_clean_data(filename):\n",
    "    df = pd.read_csv(filename)[['title','artist','year','bpm', 'nrgy', 'dnce', 'dB','live', 'val', 'dur','acous', 'spch','pop']]\n",
    "    df = df.rename({'bpm':'tempo','nrgy':'energy','dnce':'danceability','dB':'loudness','live':'liveness',\n",
    "                  'val':'valence','dur':'duration','acous':'acousticness','spch':'speechiness','pop':'popularity'},\n",
    "                 axis = 1)\n",
    "    df['decade'] = filename[2:4] + 's'\n",
    "    return df"
   ]
  },
  {
   "cell_type": "code",
   "execution_count": 474,
   "id": "c2e2e882",
   "metadata": {},
   "outputs": [
    {
     "data": {
      "text/plain": [
       "array(['10s', '80s'], dtype=object)"
      ]
     },
     "execution_count": 474,
     "metadata": {},
     "output_type": "execute_result"
    }
   ],
   "source": [
    "from sklearn.preprocessing import LabelEncoder\n",
    "\n",
    "filenames = ['1980.csv','2010.csv']\n",
    "\n",
    "df = pd.concat([read_clean_data(i) for i in filenames]).reset_index()\n",
    "df = df.iloc[:,4:]\n",
    "X = df.iloc[:,0:len(df.columns)-1]\n",
    "y = df[\"decade\"].values\n",
    "\n",
    "y = le.transform(y)\n",
    "le.classes_ \n",
    "# 10s - 0\n",
    "# 80s - 1"
   ]
  },
  {
   "cell_type": "code",
   "execution_count": 475,
   "id": "d2d3ee20",
   "metadata": {},
   "outputs": [
    {
     "data": {
      "text/html": [
       "<div>\n",
       "<style scoped>\n",
       "    .dataframe tbody tr th:only-of-type {\n",
       "        vertical-align: middle;\n",
       "    }\n",
       "\n",
       "    .dataframe tbody tr th {\n",
       "        vertical-align: top;\n",
       "    }\n",
       "\n",
       "    .dataframe thead th {\n",
       "        text-align: right;\n",
       "    }\n",
       "</style>\n",
       "<table border=\"1\" class=\"dataframe\">\n",
       "  <thead>\n",
       "    <tr style=\"text-align: right;\">\n",
       "      <th></th>\n",
       "      <th>mean</th>\n",
       "      <th>std</th>\n",
       "      <th>min</th>\n",
       "      <th>25%</th>\n",
       "      <th>50%</th>\n",
       "      <th>75%</th>\n",
       "      <th>max</th>\n",
       "    </tr>\n",
       "  </thead>\n",
       "  <tbody>\n",
       "    <tr>\n",
       "      <th>tempo</th>\n",
       "      <td>118.72</td>\n",
       "      <td>22.389157</td>\n",
       "      <td>75.0</td>\n",
       "      <td>101.50</td>\n",
       "      <td>120.0</td>\n",
       "      <td>134.0</td>\n",
       "      <td>186.0</td>\n",
       "    </tr>\n",
       "    <tr>\n",
       "      <th>energy</th>\n",
       "      <td>67.98</td>\n",
       "      <td>16.261114</td>\n",
       "      <td>17.0</td>\n",
       "      <td>56.75</td>\n",
       "      <td>68.0</td>\n",
       "      <td>80.0</td>\n",
       "      <td>95.0</td>\n",
       "    </tr>\n",
       "    <tr>\n",
       "      <th>danceability</th>\n",
       "      <td>65.37</td>\n",
       "      <td>11.880427</td>\n",
       "      <td>21.0</td>\n",
       "      <td>58.00</td>\n",
       "      <td>67.0</td>\n",
       "      <td>74.0</td>\n",
       "      <td>91.0</td>\n",
       "    </tr>\n",
       "    <tr>\n",
       "      <th>loudness</th>\n",
       "      <td>-5.49</td>\n",
       "      <td>2.002498</td>\n",
       "      <td>-13.0</td>\n",
       "      <td>-6.00</td>\n",
       "      <td>-5.0</td>\n",
       "      <td>-4.0</td>\n",
       "      <td>-2.0</td>\n",
       "    </tr>\n",
       "    <tr>\n",
       "      <th>liveness</th>\n",
       "      <td>17.93</td>\n",
       "      <td>13.822288</td>\n",
       "      <td>3.0</td>\n",
       "      <td>9.75</td>\n",
       "      <td>13.0</td>\n",
       "      <td>25.0</td>\n",
       "      <td>82.0</td>\n",
       "    </tr>\n",
       "    <tr>\n",
       "      <th>valence</th>\n",
       "      <td>46.35</td>\n",
       "      <td>20.945034</td>\n",
       "      <td>9.0</td>\n",
       "      <td>29.00</td>\n",
       "      <td>47.0</td>\n",
       "      <td>61.0</td>\n",
       "      <td>97.0</td>\n",
       "    </tr>\n",
       "    <tr>\n",
       "      <th>duration</th>\n",
       "      <td>209.17</td>\n",
       "      <td>24.080276</td>\n",
       "      <td>157.0</td>\n",
       "      <td>194.00</td>\n",
       "      <td>209.0</td>\n",
       "      <td>222.0</td>\n",
       "      <td>306.0</td>\n",
       "    </tr>\n",
       "    <tr>\n",
       "      <th>acousticness</th>\n",
       "      <td>14.71</td>\n",
       "      <td>17.911846</td>\n",
       "      <td>0.0</td>\n",
       "      <td>3.75</td>\n",
       "      <td>9.0</td>\n",
       "      <td>19.0</td>\n",
       "      <td>84.0</td>\n",
       "    </tr>\n",
       "    <tr>\n",
       "      <th>speechiness</th>\n",
       "      <td>8.44</td>\n",
       "      <td>7.820357</td>\n",
       "      <td>3.0</td>\n",
       "      <td>4.00</td>\n",
       "      <td>6.0</td>\n",
       "      <td>10.0</td>\n",
       "      <td>46.0</td>\n",
       "    </tr>\n",
       "    <tr>\n",
       "      <th>popularity</th>\n",
       "      <td>75.97</td>\n",
       "      <td>9.209629</td>\n",
       "      <td>32.0</td>\n",
       "      <td>71.75</td>\n",
       "      <td>78.0</td>\n",
       "      <td>82.0</td>\n",
       "      <td>94.0</td>\n",
       "    </tr>\n",
       "  </tbody>\n",
       "</table>\n",
       "</div>"
      ],
      "text/plain": [
       "                mean        std    min     25%    50%    75%    max\n",
       "tempo         118.72  22.389157   75.0  101.50  120.0  134.0  186.0\n",
       "energy         67.98  16.261114   17.0   56.75   68.0   80.0   95.0\n",
       "danceability   65.37  11.880427   21.0   58.00   67.0   74.0   91.0\n",
       "loudness       -5.49   2.002498  -13.0   -6.00   -5.0   -4.0   -2.0\n",
       "liveness       17.93  13.822288    3.0    9.75   13.0   25.0   82.0\n",
       "valence        46.35  20.945034    9.0   29.00   47.0   61.0   97.0\n",
       "duration      209.17  24.080276  157.0  194.00  209.0  222.0  306.0\n",
       "acousticness   14.71  17.911846    0.0    3.75    9.0   19.0   84.0\n",
       "speechiness     8.44   7.820357    3.0    4.00    6.0   10.0   46.0\n",
       "popularity     75.97   9.209629   32.0   71.75   78.0   82.0   94.0"
      ]
     },
     "execution_count": 475,
     "metadata": {},
     "output_type": "execute_result"
    }
   ],
   "source": [
    "# Descriptive statistics\n",
    "df[df[\"decade\"]==\"80s\"].describe().T.drop(\"count\",axis=1)\n",
    "\n",
    "df[df[\"decade\"]==\"10s\"].describe().T.drop(\"count\",axis=1)"
   ]
  },
  {
   "cell_type": "code",
   "execution_count": 476,
   "id": "42d3cffe",
   "metadata": {},
   "outputs": [],
   "source": [
    "from sklearn.preprocessing import StandardScaler\n",
    "from sklearn.model_selection import train_test_split\n",
    "from sklearn.decomposition import PCA\n",
    "\n",
    "def do_pca(x,n_components=2,**kwargs): \n",
    "    pca = PCA(n_components,**kwargs)\n",
    "    x_trans = pca.fit_transform(x)\n",
    "    return x_trans, pca\n",
    "\n",
    "\n",
    "# should've use pipeline here\n",
    "X_train, X_test, y_train, y_test = train_test_split(X,y,test_size = 0.20, random_state = 0)\n",
    "scaler = StandardScaler()\n",
    "scaler.fit(X_train)\n",
    "X_train = scaler.transform(X_train)\n",
    "X_test = scaler.transform(X_test)\n",
    "\n",
    "X_small_test, pca = do_pca(X_test,n_components=2)\n",
    "X_small_train = pca.transform(X_train)"
   ]
  },
  {
   "cell_type": "code",
   "execution_count": 477,
   "id": "9aac78de",
   "metadata": {},
   "outputs": [
    {
     "data": {
      "text/plain": [
       "Text(0.5, 1.0, 'Songs by decade (reduced dimensionality data)')"
      ]
     },
     "execution_count": 477,
     "metadata": {},
     "output_type": "execute_result"
    },
    {
     "data": {
      "image/png": "[encoded data removed]",
      "text/plain": [
       "<Figure size 576x432 with 1 Axes>"
      ]
     },
     "metadata": {
      "needs_background": "light"
     },
     "output_type": "display_data"
    }
   ],
   "source": [
    "fig, ax = plt.subplots(1,1,figsize=(8, 6))\n",
    "plot = sns.scatterplot(x=X_small_train[:,0],y=X_small_train[:,1],hue=y_train,palette=\"Dark2\",ax=ax)\n",
    "plot.set_title(\"Songs by decade (reduced dimensionality data)\")"
   ]
  },
  {
   "cell_type": "code",
   "execution_count": 478,
   "id": "0b8739b0",
   "metadata": {},
   "outputs": [],
   "source": [
    "from sklearn.neighbors import KNeighborsClassifier\n",
    "from sklearn.ensemble import RandomForestClassifier\n",
    "from sklearn.tree import DecisionTreeClassifier, plot_tree\n",
    "from sklearn.naive_bayes import GaussianNB\n",
    "from sklearn.model_selection import GridSearchCV, KFold\n",
    "from sklearn.metrics import classification_report, confusion_matrix, roc_curve, roc_auc_score"
   ]
  },
  {
   "cell_type": "code",
   "execution_count": 479,
   "id": "c9643054",
   "metadata": {
    "scrolled": true
   },
   "outputs": [],
   "source": [
    "def fit_model(model,param_grid,X_train,y_train,output=True):\n",
    "    cv=KFold(n_splits=5,shuffle=True,random_state=123)\n",
    "    grid_search = GridSearchCV(model,param_grid=param_grid,cv=cv)\n",
    "    grid_search.fit(X_train,y_train)\n",
    "    if output:\n",
    "        for i,j in grid_search.cv_results_.items():\n",
    "            if \"param_\" in i or i == \"mean_test_score\":\n",
    "                print(i,j)\n",
    "        print(\"\\n\")\n",
    "    return grid_search"
   ]
  },
  {
   "cell_type": "code",
   "execution_count": 480,
   "id": "474b0fc7",
   "metadata": {},
   "outputs": [],
   "source": [
    "def metric(model,X_test,y_test):\n",
    "    y_pred = model.predict(X_test)\n",
    "    cr = classification_report(y_test,y_pred,output_dict=True)\n",
    "    cr = pd.DataFrame(cr).transpose()\n",
    "    print(cr)\n",
    "    print(confusion_matrix(y_test,y_pred))"
   ]
  },
  {
   "cell_type": "code",
   "execution_count": 481,
   "id": "f0a454ad",
   "metadata": {},
   "outputs": [],
   "source": [
    "from mlxtend.plotting import plot_decision_regions\n",
    "def plot_decision(model,X,y,title=\"\"):\n",
    "    fig, ax = plt.subplots()\n",
    "    plot_decision_regions(X,y,clf=model,legend=2,ax=ax)\n",
    "    ax.set_title(title)"
   ]
  },
  {
   "cell_type": "markdown",
   "id": "3b5d6686",
   "metadata": {},
   "source": [
    "### KNN Classifier"
   ]
  },
  {
   "cell_type": "code",
   "execution_count": 482,
   "id": "ceb32373",
   "metadata": {},
   "outputs": [
    {
     "name": "stdout",
     "output_type": "stream",
     "text": [
      "param_n_neighbors [3 3 5 5 7 7]\n",
      "param_weights ['uniform' 'distance' 'uniform' 'distance' 'uniform' 'distance']\n",
      "mean_test_score [0.8657197 0.8719697 0.8780303 0.8842803 0.8719697 0.8719697]\n",
      "\n",
      "\n",
      "              precision    recall  f1-score    support\n",
      "0              0.739130  0.772727  0.755556  22.000000\n",
      "1              0.722222  0.684211  0.702703  19.000000\n",
      "accuracy       0.731707  0.731707  0.731707   0.731707\n",
      "macro avg      0.730676  0.728469  0.729129  41.000000\n",
      "weighted avg   0.731295  0.731707  0.731063  41.000000\n",
      "[[17  5]\n",
      " [ 6 13]]\n"
     ]
    },
    {
     "data": {
      "text/plain": [
       "{'algorithm': 'auto',\n",
       " 'leaf_size': 30,\n",
       " 'metric': 'minkowski',\n",
       " 'metric_params': None,\n",
       " 'n_jobs': None,\n",
       " 'n_neighbors': 5,\n",
       " 'p': 2,\n",
       " 'weights': 'distance'}"
      ]
     },
     "execution_count": 482,
     "metadata": {},
     "output_type": "execute_result"
    }
   ],
   "source": [
    "def fit_knn(X_train,y_train,output=True,param_grid=None):\n",
    "    knn = KNeighborsClassifier()\n",
    "    if param_grid is None:\n",
    "        param_grid = {\"n_neighbors\":[3,5,7],\"weights\": ['uniform', 'distance']}\n",
    "\n",
    "    return fit_model(knn,param_grid,X_train,y_train,output)\n",
    "\n",
    "knn_best = fit_knn(X_train,y_train).best_estimator_\n",
    "metric(knn_best,X_test,y_test)\n",
    "\n",
    "knn_best.get_params()"
   ]
  },
  {
   "cell_type": "code",
   "execution_count": 483,
   "id": "c8eaecc3",
   "metadata": {},
   "outputs": [
    {
     "name": "stdout",
     "output_type": "stream",
     "text": [
      "param_n_neighbors [3 3 5 5 7 7]\n",
      "param_weights ['uniform' 'distance' 'uniform' 'distance' 'uniform' 'distance']\n",
      "mean_test_score [0.75568182 0.73125    0.75568182 0.71912879 0.76193182 0.7375    ]\n",
      "\n",
      "\n",
      "              precision    recall  f1-score    support\n",
      "0              0.730769  0.863636  0.791667  22.000000\n",
      "1              0.800000  0.631579  0.705882  19.000000\n",
      "accuracy       0.756098  0.756098  0.756098   0.756098\n",
      "macro avg      0.765385  0.747608  0.748775  41.000000\n",
      "weighted avg   0.762852  0.756098  0.751913  41.000000\n",
      "[[19  3]\n",
      " [ 7 12]]\n"
     ]
    },
    {
     "data": {
      "text/plain": [
       "{'algorithm': 'auto',\n",
       " 'leaf_size': 30,\n",
       " 'metric': 'minkowski',\n",
       " 'metric_params': None,\n",
       " 'n_jobs': None,\n",
       " 'n_neighbors': 7,\n",
       " 'p': 2,\n",
       " 'weights': 'uniform'}"
      ]
     },
     "execution_count": 483,
     "metadata": {},
     "output_type": "execute_result"
    }
   ],
   "source": [
    "knn_small_best = fit_knn(X_small_train,y_train).best_estimator_\n",
    "\n",
    "metric(knn_small_best,X_small_test,y_test)\n",
    "\n",
    "knn_small_best.get_params()"
   ]
  },
  {
   "cell_type": "code",
   "execution_count": 484,
   "id": "608c178f",
   "metadata": {},
   "outputs": [
    {
     "data": {
      "image/png": "[encoded data removed]",
      "text/plain": [
       "<Figure size 432x288 with 1 Axes>"
      ]
     },
     "metadata": {
      "needs_background": "light"
     },
     "output_type": "display_data"
    }
   ],
   "source": [
    "plot_decision(knn_small_best,X_small_train,y_train,title=\"Decision boundary (train)\")"
   ]
  },
  {
   "cell_type": "code",
   "execution_count": 485,
   "id": "263db779",
   "metadata": {},
   "outputs": [
    {
     "data": {
      "image/png": "[encoded data removed]",
      "text/plain": [
       "<Figure size 432x288 with 1 Axes>"
      ]
     },
     "metadata": {
      "needs_background": "light"
     },
     "output_type": "display_data"
    }
   ],
   "source": [
    "plot_decision(knn_small_best,X_small_test,y_test,title=\"Decision boundary (test)\")"
   ]
  },
  {
   "cell_type": "markdown",
   "id": "4a582b0a",
   "metadata": {},
   "source": [
    "### Naive Bayes"
   ]
  },
  {
   "cell_type": "code",
   "execution_count": 486,
   "id": "d8272e06",
   "metadata": {},
   "outputs": [
    {
     "name": "stdout",
     "output_type": "stream",
     "text": [
      "mean_test_score [0.89640152]\n",
      "\n",
      "\n",
      "              precision    recall  f1-score    support\n",
      "0              0.900000  0.818182  0.857143  22.000000\n",
      "1              0.809524  0.894737  0.850000  19.000000\n",
      "accuracy       0.853659  0.853659  0.853659   0.853659\n",
      "macro avg      0.854762  0.856459  0.853571  41.000000\n",
      "weighted avg   0.858072  0.853659  0.853833  41.000000\n",
      "[[18  4]\n",
      " [ 2 17]]\n"
     ]
    }
   ],
   "source": [
    "def fit_nb(X_train,y_train,output=True,param_grid=None):\n",
    "    nb = GaussianNB()\n",
    "    if param_grid is None:\n",
    "        param_grid = {}\n",
    "    return fit_model(nb,param_grid,X_train,y_train,output)\n",
    "\n",
    "\n",
    "nb_best = fit_nb(X_train,y_train).best_estimator_\n",
    "\n",
    "metric(nb_best,X_test,y_test)"
   ]
  },
  {
   "cell_type": "code",
   "execution_count": 487,
   "id": "7ae745ef",
   "metadata": {},
   "outputs": [
    {
     "name": "stdout",
     "output_type": "stream",
     "text": [
      "mean_test_score [0.77462121]\n",
      "\n",
      "\n",
      "              precision    recall  f1-score    support\n",
      "0              0.720000  0.818182  0.765957  22.000000\n",
      "1              0.750000  0.631579  0.685714  19.000000\n",
      "accuracy       0.731707  0.731707  0.731707   0.731707\n",
      "macro avg      0.735000  0.724880  0.725836  41.000000\n",
      "weighted avg   0.733902  0.731707  0.728772  41.000000\n",
      "[[18  4]\n",
      " [ 7 12]]\n"
     ]
    }
   ],
   "source": [
    "nb_small_best = fit_nb(X_small_train,y_train).best_estimator_\n",
    "\n",
    "metric(nb_small_best,X_small_test,y_test)"
   ]
  },
  {
   "cell_type": "code",
   "execution_count": 488,
   "id": "bc69989e",
   "metadata": {},
   "outputs": [
    {
     "data": {
      "image/png": "[encoded data removed]",
      "text/plain": [
       "<Figure size 432x288 with 1 Axes>"
      ]
     },
     "metadata": {
      "needs_background": "light"
     },
     "output_type": "display_data"
    }
   ],
   "source": [
    "plot_decision(nb_small_best,X_small_train,y_train,title=\"Decision boundary (train)\")"
   ]
  },
  {
   "cell_type": "code",
   "execution_count": 489,
   "id": "5251c317",
   "metadata": {},
   "outputs": [
    {
     "data": {
      "image/png": "[encoded data removed]",
      "text/plain": [
       "<Figure size 432x288 with 1 Axes>"
      ]
     },
     "metadata": {
      "needs_background": "light"
     },
     "output_type": "display_data"
    }
   ],
   "source": [
    "plot_decision(nb_small_best,X_small_test,y_test,title=\"Decision boundary (test)\")"
   ]
  },
  {
   "cell_type": "markdown",
   "id": "312924fb",
   "metadata": {},
   "source": [
    "### Decision Tree"
   ]
  },
  {
   "cell_type": "code",
   "execution_count": 490,
   "id": "3faece72",
   "metadata": {},
   "outputs": [
    {
     "name": "stdout",
     "output_type": "stream",
     "text": [
      "param_max_depth [2 2 2 2 2 3 3 3 3 3 4 4 4 4 4]\n",
      "param_min_samples_split [5 10 15 20 25 5 10 15 20 25 5 10 15 20 25]\n",
      "mean_test_score [0.74393939 0.74393939 0.74393939 0.74393939 0.74393939 0.78693182\n",
      " 0.76268939 0.75056818 0.75681818 0.76287879 0.78087121 0.78693182\n",
      " 0.75662879 0.74469697 0.75681818]\n",
      "\n",
      "\n",
      "              precision    recall  f1-score    support\n",
      "0              0.750000  0.818182  0.782609  22.000000\n",
      "1              0.764706  0.684211  0.722222  19.000000\n",
      "accuracy       0.756098  0.756098  0.756098   0.756098\n",
      "macro avg      0.757353  0.751196  0.752415  41.000000\n",
      "weighted avg   0.756815  0.756098  0.754625  41.000000\n",
      "[[18  4]\n",
      " [ 6 13]]\n"
     ]
    },
    {
     "data": {
      "text/plain": [
       "{'ccp_alpha': 0.0,\n",
       " 'class_weight': None,\n",
       " 'criterion': 'gini',\n",
       " 'max_depth': 3,\n",
       " 'max_features': None,\n",
       " 'max_leaf_nodes': None,\n",
       " 'min_impurity_decrease': 0.0,\n",
       " 'min_samples_leaf': 1,\n",
       " 'min_samples_split': 5,\n",
       " 'min_weight_fraction_leaf': 0.0,\n",
       " 'random_state': None,\n",
       " 'splitter': 'best'}"
      ]
     },
     "execution_count": 490,
     "metadata": {},
     "output_type": "execute_result"
    }
   ],
   "source": [
    "def fit_dt(X_train,y_train,output=True,param_grid=None):\n",
    "    dt = DecisionTreeClassifier()\n",
    "    if param_grid is None:\n",
    "        param_grid = {\"max_depth\":[2,3,4],\"min_samples_split\":[5,10,15,20,25]}\n",
    "    return fit_model(dt,param_grid,X_train,y_train,output)\n",
    "\n",
    "dt_best = fit_dt(X_train,y_train).best_estimator_\n",
    "\n",
    "metric(dt_best,X_test,y_test)\n",
    "\n",
    "dt_best.get_params()"
   ]
  },
  {
   "cell_type": "code",
   "execution_count": 491,
   "id": "041cb72c",
   "metadata": {
    "scrolled": false
   },
   "outputs": [
    {
     "name": "stdout",
     "output_type": "stream",
     "text": [
      "param_max_depth [2 2 2 2 2 3 3 3 3 3 4 4 4 4 4]\n",
      "param_min_samples_split [5 10 15 20 25 5 10 15 20 25 5 10 15 20 25]\n",
      "mean_test_score [0.73712121 0.73712121 0.73712121 0.73712121 0.73712121 0.74943182\n",
      " 0.76155303 0.76761364 0.76761364 0.76155303 0.73106061 0.74924242\n",
      " 0.76136364 0.77348485 0.77348485]\n",
      "\n",
      "\n",
      "              precision    recall  f1-score    support\n",
      "0              0.761905  0.727273  0.744186  22.000000\n",
      "1              0.700000  0.736842  0.717949  19.000000\n",
      "accuracy       0.731707  0.731707  0.731707   0.731707\n",
      "macro avg      0.730952  0.732057  0.731067  41.000000\n",
      "weighted avg   0.733217  0.731707  0.732027  41.000000\n",
      "[[16  6]\n",
      " [ 5 14]]\n"
     ]
    },
    {
     "data": {
      "text/plain": [
       "{'ccp_alpha': 0.0,\n",
       " 'class_weight': None,\n",
       " 'criterion': 'gini',\n",
       " 'max_depth': 4,\n",
       " 'max_features': None,\n",
       " 'max_leaf_nodes': None,\n",
       " 'min_impurity_decrease': 0.0,\n",
       " 'min_samples_leaf': 1,\n",
       " 'min_samples_split': 20,\n",
       " 'min_weight_fraction_leaf': 0.0,\n",
       " 'random_state': None,\n",
       " 'splitter': 'best'}"
      ]
     },
     "execution_count": 491,
     "metadata": {},
     "output_type": "execute_result"
    }
   ],
   "source": [
    "dt_small_best  = fit_dt(X_small_train,y_train).best_estimator_\n",
    "\n",
    "metric(dt_small_best,X_small_test,y_test)\n",
    "\n",
    "dt_small_best.get_params()"
   ]
  },
  {
   "cell_type": "code",
   "execution_count": 492,
   "id": "1194de94",
   "metadata": {},
   "outputs": [
    {
     "data": {
      "image/png": "[encoded data removed]",
      "text/plain": [
       "<Figure size 432x288 with 1 Axes>"
      ]
     },
     "metadata": {
      "needs_background": "light"
     },
     "output_type": "display_data"
    }
   ],
   "source": [
    "plot_decision(dt_small_best,X_small_train,y_train,title=\"Decision boundary (train)\")"
   ]
  },
  {
   "cell_type": "code",
   "execution_count": 493,
   "id": "7f72758c",
   "metadata": {},
   "outputs": [
    {
     "data": {
      "image/png": "[encoded data removed]",
      "text/plain": [
       "<Figure size 432x288 with 1 Axes>"
      ]
     },
     "metadata": {
      "needs_background": "light"
     },
     "output_type": "display_data"
    }
   ],
   "source": [
    "plot_decision(dt_small_best,X_small_test,y_test,title=\"Decision boundary (test)\")"
   ]
  },
  {
   "cell_type": "markdown",
   "id": "4056af5a",
   "metadata": {},
   "source": [
    "### Random forest"
   ]
  },
  {
   "cell_type": "code",
   "execution_count": 463,
   "id": "c9e07ca2",
   "metadata": {},
   "outputs": [
    {
     "name": "stdout",
     "output_type": "stream",
     "text": [
      "param_max_features [2 2 2 2 2 3 3 3 3 3 4 4 4 4 4 5 5 5 5 5]\n",
      "param_min_samples_split [5 10 15 20 25 5 10 15 20 25 5 10 15 20 25 5 10 15 20 25]\n",
      "param_n_estimators [100 100 100 100 100 100 100 100 100 100 100 100 100 100 100 100 100 100\n",
      " 100 100]\n",
      "mean_test_score [0.90833333 0.89034091 0.89621212 0.89602273 0.89621212 0.91458333\n",
      " 0.89015152 0.88390152 0.89015152 0.88409091 0.91458333 0.90852273\n",
      " 0.89621212 0.89640152 0.90852273 0.91477273 0.90246212 0.89640152\n",
      " 0.88409091 0.88390152]\n",
      "\n",
      "\n",
      "              precision    recall  f1-score    support\n",
      "0              0.809524  0.772727  0.790698  22.000000\n",
      "1              0.750000  0.789474  0.769231  19.000000\n",
      "accuracy       0.780488  0.780488  0.780488   0.780488\n",
      "macro avg      0.779762  0.781100  0.779964  41.000000\n",
      "weighted avg   0.781940  0.780488  0.780750  41.000000\n",
      "[[17  5]\n",
      " [ 4 15]]\n"
     ]
    },
    {
     "data": {
      "text/plain": [
       "{'bootstrap': True,\n",
       " 'ccp_alpha': 0.0,\n",
       " 'class_weight': None,\n",
       " 'criterion': 'gini',\n",
       " 'max_depth': None,\n",
       " 'max_features': 5,\n",
       " 'max_leaf_nodes': None,\n",
       " 'max_samples': None,\n",
       " 'min_impurity_decrease': 0.0,\n",
       " 'min_samples_leaf': 1,\n",
       " 'min_samples_split': 5,\n",
       " 'min_weight_fraction_leaf': 0.0,\n",
       " 'n_estimators': 100,\n",
       " 'n_jobs': None,\n",
       " 'oob_score': False,\n",
       " 'random_state': None,\n",
       " 'verbose': 0,\n",
       " 'warm_start': False}"
      ]
     },
     "execution_count": 463,
     "metadata": {},
     "output_type": "execute_result"
    }
   ],
   "source": [
    "def fit_rf(X_train,y_train,output=True,param_grid=None):\n",
    "    rf = RandomForestClassifier()\n",
    "    if param_grid is None:\n",
    "        param_grid = {\"max_features\":[2,3,4,5],\"min_samples_split\":[5,10,15,20,25],\"n_estimators\":[100]}\n",
    "    return fit_model(rf,param_grid,X_train,y_train,output)\n",
    "\n",
    "rf_best = fit_rf(X_train,y_train).best_estimator_\n",
    "\n",
    "metric(rf_best,X_test,y_test)\n",
    "\n",
    "\n",
    "rf_best.get_params()"
   ]
  },
  {
   "cell_type": "code",
   "execution_count": 470,
   "id": "63b8fa7c",
   "metadata": {},
   "outputs": [
    {
     "name": "stdout",
     "output_type": "stream",
     "text": [
      "param_max_features [1 1 1 1 1]\n",
      "param_min_samples_split [5 10 15 20 25]\n",
      "param_n_estimators [100 100 100 100 100]\n",
      "mean_test_score [0.75549242 0.77367424 0.74924242 0.76174242 0.75530303]\n",
      "\n",
      "\n",
      "              precision    recall  f1-score    support\n",
      "0              0.800000  0.727273  0.761905  22.000000\n",
      "1              0.714286  0.789474  0.750000  19.000000\n",
      "accuracy       0.756098  0.756098  0.756098   0.756098\n",
      "macro avg      0.757143  0.758373  0.755952  41.000000\n",
      "weighted avg   0.760279  0.756098  0.756388  41.000000\n",
      "[[16  6]\n",
      " [ 4 15]]\n"
     ]
    },
    {
     "data": {
      "text/plain": [
       "{'bootstrap': True,\n",
       " 'ccp_alpha': 0.0,\n",
       " 'class_weight': None,\n",
       " 'criterion': 'gini',\n",
       " 'max_depth': None,\n",
       " 'max_features': 1,\n",
       " 'max_leaf_nodes': None,\n",
       " 'max_samples': None,\n",
       " 'min_impurity_decrease': 0.0,\n",
       " 'min_samples_leaf': 1,\n",
       " 'min_samples_split': 10,\n",
       " 'min_weight_fraction_leaf': 0.0,\n",
       " 'n_estimators': 100,\n",
       " 'n_jobs': None,\n",
       " 'oob_score': False,\n",
       " 'random_state': None,\n",
       " 'verbose': 0,\n",
       " 'warm_start': False}"
      ]
     },
     "execution_count": 470,
     "metadata": {},
     "output_type": "execute_result"
    }
   ],
   "source": [
    "rf_small_best = fit_rf(X_small_train,y_train, param_grid = {\"max_features\":[1],\n",
    "                                                            \"min_samples_split\":[5,10,15,20,25],\n",
    "                                                            \"n_estimators\":[100]}).best_estimator_\n",
    "\n",
    "metric(rf_small_best,X_small_test,y_test)\n",
    "\n",
    "\n",
    "rf_small_best.get_params()"
   ]
  },
  {
   "cell_type": "code",
   "execution_count": 471,
   "id": "b9d72a51",
   "metadata": {},
   "outputs": [
    {
     "data": {
      "image/png": "[encoded data removed]",
      "text/plain": [
       "<Figure size 432x288 with 1 Axes>"
      ]
     },
     "metadata": {
      "needs_background": "light"
     },
     "output_type": "display_data"
    }
   ],
   "source": [
    "plot_decision(rf_small_best,X_small_train,y_train,title=\"Decision boundary (train)\")"
   ]
  },
  {
   "cell_type": "code",
   "execution_count": 472,
   "id": "819ac30e",
   "metadata": {},
   "outputs": [
    {
     "data": {
      "image/png": "[encoded data removed]",
      "text/plain": [
       "<Figure size 432x288 with 1 Axes>"
      ]
     },
     "metadata": {
      "needs_background": "light"
     },
     "output_type": "display_data"
    }
   ],
   "source": [
    "plot_decision(rf_small_best,X_small_test,y_test,title=\"Decision boundary (test)\")"
   ]
  },
  {
   "cell_type": "markdown",
   "id": "2baad224",
   "metadata": {},
   "source": [
    "### Classification evaluation"
   ]
  },
  {
   "cell_type": "code",
   "execution_count": 431,
   "id": "0598017c",
   "metadata": {},
   "outputs": [],
   "source": [
    "from sklearn.model_selection import cross_val_predict\n",
    "from sklearn.model_selection import cross_val_score\n",
    "from sklearn.metrics import accuracy_score"
   ]
  },
  {
   "cell_type": "code",
   "execution_count": 555,
   "id": "e9b20b5c",
   "metadata": {},
   "outputs": [],
   "source": [
    "def cross_validation_ROC_AUC(models,names,X_train,y_train):\n",
    "    cv=KFold(n_splits=5,shuffle=True,random_state=123)\n",
    "    for i,j in zip(models,names):\n",
    "        y_proba = cross_val_predict(i,X_train,y_train,method=\"predict_proba\",cv=cv)\n",
    "        fpr, tpr, _ = roc_curve(y_train, y_proba[:,1])\n",
    "        auc = round(roc_auc_score(y_train, y_proba[:,1]),2)\n",
    "        plt.plot(fpr,tpr,label=j+\" AUC=\"+str(auc))\n",
    "        y_pred = cross_val_predict(i,X_train,y_train) \n",
    "        print(j)\n",
    "        cr = classification_report(y_train,y_pred,output_dict=True)\n",
    "        cr = pd.DataFrame(cr).transpose()\n",
    "        print(cr)\n",
    "       \n",
    "        cr.insert(0,\"modelis\",j)\n",
    "        cr[\"accuracy\"] = accuracy_score(y_train,y_pred)\n",
    "        cr = cr.iloc[0:2,:]\n",
    "        cr.columns = pd.Series(cr.columns).str.title()\n",
    "        cr.round(2).to_csv(\"cross_validation_\"+ j + \".csv\",index=False)\n",
    "        \n",
    "        print(\"\\n\")\n",
    "    plt.legend()"
   ]
  },
  {
   "cell_type": "code",
   "execution_count": 556,
   "id": "016a251a",
   "metadata": {},
   "outputs": [],
   "source": [
    "def holdout_ROC_AUC(names,functions,X_train,y_train,param_grids=None):\n",
    "    fig, ax = plt.subplots()\n",
    "    x = 0\n",
    "    X_train, X_validate, y_train, y_validate = train_test_split(X_train,y_train,test_size = 0.20, random_state = 0)\n",
    "    for i,j,k in zip(names,functions,param_grids):\n",
    "        best_model = j(X_train,y_train,param_grid=k,output=False).best_estimator_\n",
    "        y_proba = best_model.predict_proba(X_validate)\n",
    "        fpr, tpr, _ = roc_curve(y_validate, y_proba[:,1])\n",
    "        auc = round(roc_auc_score(y_validate, y_proba[:,1]),2)\n",
    "        plt.plot(fpr,tpr,label=i+\" AUC=\"+str(auc))\n",
    "        print(i)\n",
    "        cr = classification_report(y_validate,best_model.predict(X_validate),output_dict=True)\n",
    "        cpd.DataFrame(cr).transpose()\n",
    "        print(cr)\n",
    "        \n",
    "        cr.insert(0,\"modelis\",i)\n",
    "        cr[\"accuracy\"] = accuracy_score(y_validate,best_model.predict(X_validate))\n",
    "        cr = cr.iloc[0:2,:]\n",
    "        cr.columns = pd.Series(cr.columns).str.title()\n",
    "        cr.round(2).to_csv(\"holdout_\" + i + \".csv\")\n",
    "       \n",
    "        print(\"\\n\")\n",
    "    plt.legend()\n",
    " "
   ]
  },
  {
   "cell_type": "code",
   "execution_count": 557,
   "id": "0c960fcd",
   "metadata": {},
   "outputs": [],
   "source": [
    "# this is a helper function to paste into a word table\n",
    "filenames = ['holdout_KNN.csv','holdout_Naive Bayes.csv','holdout_Decision Tree.csv','holdout_Random Forest.csv']\n",
    "filenames2 = ['cross_validation_KNN.csv','cross_validation_Naive Bayes.csv',\n",
    "              'cross_validation_Decision Tree.csv','cross_validation_Random Forest.csv']\n",
    "\n",
    "df = pd.concat([pd.read_csv(i) for i in filenames2]).reset_index()\n",
    "df.to_csv(\"to_word_table.csv\")"
   ]
  },
  {
   "cell_type": "code",
   "execution_count": 559,
   "id": "1f91f0d8",
   "metadata": {},
   "outputs": [],
   "source": [
    "models_small = [knn_small_best,nb_small_best,dt_small_best,rf_small_best]\n",
    "models = [knn_best,nb_best,dt_best,rf_best]\n",
    "names = [\"KNN\",\"Naive Bayes\",\"Decision Tree\",\"Random Forest\"]\n",
    "functions = [fit_knn,fit_nb,fit_dt,fit_rf]"
   ]
  },
  {
   "cell_type": "code",
   "execution_count": 560,
   "id": "56e1ec7f",
   "metadata": {},
   "outputs": [
    {
     "name": "stdout",
     "output_type": "stream",
     "text": [
      "KNN\n",
      "              precision    recall  f1-score     support\n",
      "0              0.865854  0.910256  0.887500   78.000000\n",
      "1              0.914634  0.872093  0.892857   86.000000\n",
      "accuracy       0.890244  0.890244  0.890244    0.890244\n",
      "macro avg      0.890244  0.891175  0.890179  164.000000\n",
      "weighted avg   0.891434  0.890244  0.890309  164.000000\n",
      "\n",
      "\n",
      "Naive Bayes\n",
      "              precision    recall  f1-score     support\n",
      "0              0.855422  0.910256  0.881988   78.000000\n",
      "1              0.913580  0.860465  0.886228   86.000000\n",
      "accuracy       0.884146  0.884146  0.884146    0.884146\n",
      "macro avg      0.884501  0.885361  0.884108  164.000000\n",
      "weighted avg   0.885919  0.884146  0.884211  164.000000\n",
      "\n",
      "\n",
      "Decision Tree\n",
      "              precision    recall  f1-score     support\n",
      "0              0.807692  0.807692  0.807692   78.000000\n",
      "1              0.825581  0.825581  0.825581   86.000000\n",
      "accuracy       0.817073  0.817073  0.817073    0.817073\n",
      "macro avg      0.816637  0.816637  0.816637  164.000000\n",
      "weighted avg   0.817073  0.817073  0.817073  164.000000\n",
      "\n",
      "\n",
      "Random Forest\n",
      "              precision    recall  f1-score     support\n",
      "0              0.900000  0.923077  0.911392   78.000000\n",
      "1              0.928571  0.906977  0.917647   86.000000\n",
      "accuracy       0.914634  0.914634  0.914634    0.914634\n",
      "macro avg      0.914286  0.915027  0.914520  164.000000\n",
      "weighted avg   0.914983  0.914634  0.914672  164.000000\n",
      "\n",
      "\n"
     ]
    },
    {
     "data": {
      "image/png": "[encoded data removed]",
      "text/plain": [
       "<Figure size 432x288 with 1 Axes>"
      ]
     },
     "metadata": {
      "needs_background": "light"
     },
     "output_type": "display_data"
    }
   ],
   "source": [
    "cross_validation_ROC_AUC(models,names,X_train,y_train)"
   ]
  },
  {
   "cell_type": "code",
   "execution_count": 561,
   "id": "d8ed2649",
   "metadata": {
    "scrolled": false
   },
   "outputs": [
    {
     "name": "stdout",
     "output_type": "stream",
     "text": [
      "KNN\n"
     ]
    },
    {
     "ename": "NameError",
     "evalue": "name 'cpd' is not defined",
     "output_type": "error",
     "traceback": [
      "\u001b[1;31m---------------------------------------------------------------------------\u001b[0m",
      "\u001b[1;31mNameError\u001b[0m                                 Traceback (most recent call last)",
      "\u001b[1;32m~\\AppData\\Local\\Temp/ipykernel_13140/981410224.py\u001b[0m in \u001b[0;36m<module>\u001b[1;34m\u001b[0m\n\u001b[1;32m----> 1\u001b[1;33m \u001b[0mholdout_ROC_AUC\u001b[0m\u001b[1;33m(\u001b[0m\u001b[0mnames\u001b[0m\u001b[1;33m,\u001b[0m\u001b[0mfunctions\u001b[0m\u001b[1;33m,\u001b[0m\u001b[0mX_train\u001b[0m\u001b[1;33m,\u001b[0m\u001b[0my_train\u001b[0m\u001b[1;33m,\u001b[0m\u001b[1;33m[\u001b[0m\u001b[1;32mNone\u001b[0m\u001b[1;33m,\u001b[0m\u001b[1;32mNone\u001b[0m\u001b[1;33m,\u001b[0m\u001b[1;32mNone\u001b[0m\u001b[1;33m,\u001b[0m\u001b[1;32mNone\u001b[0m\u001b[1;33m]\u001b[0m\u001b[1;33m)\u001b[0m\u001b[1;33m\u001b[0m\u001b[1;33m\u001b[0m\u001b[0m\n\u001b[0m",
      "\u001b[1;32m~\\AppData\\Local\\Temp/ipykernel_13140/3619535243.py\u001b[0m in \u001b[0;36mholdout_ROC_AUC\u001b[1;34m(names, functions, X_train, y_train, param_grids)\u001b[0m\n\u001b[0;32m     11\u001b[0m         \u001b[0mprint\u001b[0m\u001b[1;33m(\u001b[0m\u001b[0mi\u001b[0m\u001b[1;33m)\u001b[0m\u001b[1;33m\u001b[0m\u001b[1;33m\u001b[0m\u001b[0m\n\u001b[0;32m     12\u001b[0m         \u001b[0mcr\u001b[0m \u001b[1;33m=\u001b[0m \u001b[0mclassification_report\u001b[0m\u001b[1;33m(\u001b[0m\u001b[0my_validate\u001b[0m\u001b[1;33m,\u001b[0m\u001b[0mbest_model\u001b[0m\u001b[1;33m.\u001b[0m\u001b[0mpredict\u001b[0m\u001b[1;33m(\u001b[0m\u001b[0mX_validate\u001b[0m\u001b[1;33m)\u001b[0m\u001b[1;33m,\u001b[0m\u001b[0moutput_dict\u001b[0m\u001b[1;33m=\u001b[0m\u001b[1;32mTrue\u001b[0m\u001b[1;33m)\u001b[0m\u001b[1;33m\u001b[0m\u001b[1;33m\u001b[0m\u001b[0m\n\u001b[1;32m---> 13\u001b[1;33m         \u001b[0mcpd\u001b[0m\u001b[1;33m.\u001b[0m\u001b[0mDataFrame\u001b[0m\u001b[1;33m(\u001b[0m\u001b[0mcr\u001b[0m\u001b[1;33m)\u001b[0m\u001b[1;33m.\u001b[0m\u001b[0mtranspose\u001b[0m\u001b[1;33m(\u001b[0m\u001b[1;33m)\u001b[0m\u001b[1;33m\u001b[0m\u001b[1;33m\u001b[0m\u001b[0m\n\u001b[0m\u001b[0;32m     14\u001b[0m         \u001b[0mprint\u001b[0m\u001b[1;33m(\u001b[0m\u001b[0mcr\u001b[0m\u001b[1;33m)\u001b[0m\u001b[1;33m\u001b[0m\u001b[1;33m\u001b[0m\u001b[0m\n\u001b[0;32m     15\u001b[0m \u001b[1;33m\u001b[0m\u001b[0m\n",
      "\u001b[1;31mNameError\u001b[0m: name 'cpd' is not defined"
     ]
    },
    {
     "data": {
      "image/png": "[encoded data removed]",
      "text/plain": [
       "<Figure size 432x288 with 1 Axes>"
      ]
     },
     "metadata": {
      "needs_background": "light"
     },
     "output_type": "display_data"
    }
   ],
   "source": [
    "holdout_ROC_AUC(names,functions,X_train,y_train,[None,None,None,None])"
   ]
  },
  {
   "cell_type": "code",
   "execution_count": null,
   "id": "ecaab555",
   "metadata": {},
   "outputs": [],
   "source": [
    "cross_validation_ROC_AUC(models_small,names,X_small_train,y_train)"
   ]
  },
  {
   "cell_type": "code",
   "execution_count": null,
   "id": "19ad5f80",
   "metadata": {},
   "outputs": [],
   "source": [
    "param_grids = [None,None,None,{\"max_features\":[1,2], \"min_samples_split\":[9,27,81,263],\n",
    "                                                                     \"n_estimators\":[200]}]\n",
    "holdout_ROC_AUC(names,functions,X_small_train,y_train, param_grids)"
   ]
  },
  {
   "cell_type": "code",
   "execution_count": null,
   "id": "698a24b2",
   "metadata": {},
   "outputs": [],
   "source": []
  },
  {
   "cell_type": "code",
   "execution_count": null,
   "id": "4636c599",
   "metadata": {},
   "outputs": [],
   "source": []
  },
  {
   "cell_type": "code",
   "execution_count": null,
   "id": "c72ac41f",
   "metadata": {},
   "outputs": [],
   "source": []
  },
  {
   "cell_type": "code",
   "execution_count": null,
   "id": "3c819cf9",
   "metadata": {},
   "outputs": [],
   "source": []
  },
  {
   "cell_type": "code",
   "execution_count": null,
   "id": "e8082429",
   "metadata": {},
   "outputs": [],
   "source": []
  }
 ],
 "metadata": {
  "kernelspec": {
   "display_name": "Python 3 (ipykernel)",
   "language": "python",
   "name": "python3"
  },
  "language_info": {
   "codemirror_mode": {
    "name": "ipython",
    "version": 3
   },
   "file_extension": ".py",
   "mimetype": "text/x-python",
   "name": "python",
   "nbconvert_exporter": "python",
   "pygments_lexer": "ipython3",
   "version": "3.9.7"
  }
 },
 "nbformat": 4,
 "nbformat_minor": 5
}
